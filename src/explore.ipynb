{
    "cells": [
        {
            "cell_type": "markdown",
            "metadata": {},
            "source": [
                "# Paso 3: Variables de entorno"
            ]
        },
        {
            "cell_type": "code",
            "execution_count": 3,
            "metadata": {},
            "outputs": [],
            "source": [
                "import os\n",
                "import pandas as pd\n",
                "import matplotlib.pyplot as plt\n",
                "from dotenv import load_dotenv\n",
                "\n",
                "# load the .env file variables\n",
                "load_dotenv()\n",
                "\n",
                "# Get credential values\n",
                "client_id = os.environ.get(\"CLIENT_ID\")\n",
                "client_secret = os.environ.get(\"CLIENT_SECRET\")\n"
            ]
        },
        {
            "cell_type": "markdown",
            "metadata": {},
            "source": [
                "# Paso 4: Inicializar la biblioteca Spotipy"
            ]
        },
        {
            "cell_type": "code",
            "execution_count": 4,
            "metadata": {},
            "outputs": [],
            "source": [
                "import spotipy\n",
                "from spotipy.oauth2 import SpotifyClientCredentials\n",
                "\n",
                "auth_manager = SpotifyClientCredentials(client_id=client_id, client_secret=client_secret)\n",
                "spotify = spotipy.Spotify(auth_manager=auth_manager)"
            ]
        },
        {
            "cell_type": "markdown",
            "metadata": {},
            "source": [
                "# Paso 5: Realizar solicitudes a la API"
            ]
        },
        {
            "cell_type": "code",
            "execution_count": 5,
            "metadata": {},
            "outputs": [
                {
                    "name": "stdout",
                    "output_type": "stream",
                    "text": [
                        "[{'name': 'Grace Kelly', 'popularity': 75, 'duration_min': 3.1288833333333335}, {'name': 'Relax, Take It Easy', 'popularity': 71, 'duration_min': 4.5}, {'name': 'Happy Ending', 'popularity': 67, 'duration_min': 4.5633333333333335}, {'name': 'Love Today', 'popularity': 64, 'duration_min': 3.91955}, {'name': 'Big Girl (You Are Beautiful)', 'popularity': 61, 'duration_min': 4.133333333333334}, {'name': 'Popular Song', 'popularity': 59, 'duration_min': 3.34355}, {'name': 'Elle me dit', 'popularity': 55, 'duration_min': 3.61555}, {'name': 'Lollipop', 'popularity': 61, 'duration_min': 3.058883333333333}, {'name': 'Relax, Take It Easy', 'popularity': 34, 'duration_min': 3.7544333333333335}, {'name': 'We Are Golden', 'popularity': 55, 'duration_min': 3.9673333333333334}]\n"
                    ]
                }
            ],
            "source": [
                "artist_id = \"5MmVJVhhYKQ86izuGHzJYA\"\n",
                "\n",
                "top_tracks = spotify.artist_top_tracks(artist_id)\n",
                "\n",
                "tracks = []\n",
                "for track in top_tracks['tracks']:\n",
                "    tracks.append({\n",
                "        'name': track['name'],\n",
                "        'popularity': track['popularity'],\n",
                "        'duration_min': track['duration_ms'] / 60000\n",
                "    })\n",
                "\n",
                "print(tracks)\n"
            ]
        },
        {
            "cell_type": "markdown",
            "metadata": {},
            "source": [
                "# Paso 6: Transformar a Pandas DataFrame"
            ]
        },
        {
            "cell_type": "code",
            "execution_count": 6,
            "metadata": {},
            "outputs": [
                {
                    "name": "stdout",
                    "output_type": "stream",
                    "text": [
                        "                           name  popularity  duration_min\n",
                        "0                   Grace Kelly          75      3.128883\n",
                        "1           Relax, Take It Easy          71      4.500000\n",
                        "2                  Happy Ending          67      4.563333\n",
                        "3                    Love Today          64      3.919550\n",
                        "4  Big Girl (You Are Beautiful)          61      4.133333\n"
                    ]
                }
            ],
            "source": [
                "tracks_df = pd.DataFrame(tracks)\n",
                "\n",
                "print(tracks_df.head())"
            ]
        },
        {
            "cell_type": "markdown",
            "metadata": {},
            "source": [
                "# Paso 7: Analizar relación estadística"
            ]
        },
        {
            "cell_type": "code",
            "execution_count": 7,
            "metadata": {},
            "outputs": [
                {
                    "data": {
                        "image/png": "[encoded data removed]",
                        "text/plain": [
                            "<Figure size 640x480 with 1 Axes>"
                        ]
                    },
                    "metadata": {},
                    "output_type": "display_data"
                }
            ],
            "source": [
                "import matplotlib.pyplot as plt\n",
                "plt.scatter(tracks_df[\"duration_min\"], tracks_df[\"popularity\"])\n",
                "plt.xlabel('Duración en minutos')\n",
                "plt.ylabel('Popularidad')\n",
                "plt.title('Relación entre la duración y la popularidad')\n",
                "plt.show()\n"
            ]
        },
        {
            "cell_type": "markdown",
            "metadata": {},
            "source": [
                "Para las canciones más populares de Mika, no parece existir ningún tipo de correlación entre la duración de la canción y su popularidad: una canción que dura poco más de 3min es casi tan popular como una canción que dura aproximadamente 4 minutos y medio."
            ]
        }
    ],
    "metadata": {
        "kernelspec": {
            "display_name": "Python 3",
            "language": "python",
            "name": "python3"
        },
        "language_info": {
            "codemirror_mode": {
                "name": "ipython",
                "version": 3
            },
            "file_extension": ".py",
            "mimetype": "text/x-python",
            "name": "python",
            "nbconvert_exporter": "python",
            "pygments_lexer": "ipython3",
            "version": "3.11.4"
        },
        "orig_nbformat": 4
    },
    "nbformat": 4,
    "nbformat_minor": 2
}
